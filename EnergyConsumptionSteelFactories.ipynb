{
 "cells": [
  {
   "cell_type": "markdown",
   "metadata": {
    "id": "AvSTvk1Y9yPn"
   },
   "source": [
    "# Nueva sección"
   ]
  },
  {
   "cell_type": "code",
   "execution_count": null,
   "metadata": {
    "colab": {
     "base_uri": "https://localhost:8080/",
     "height": 330
    },
    "id": "jMi7skDZ7DIB",
    "outputId": "a211306d-f027-4da8-b7ee-fd94f9a583e4"
   },
   "outputs": [],
   "source": [
    "import pickle\n",
    "import numpy as np\n",
    "import pandas as pd\n",
    "import matplotlib.pyplot as plt\n",
    "import seaborn as sns\n",
    "from sklearn import metrics\n",
    "from sklearn.feature_selection import RFE\n",
    "from sklearn.linear_model import (\n",
    "    LogisticRegression, LinearRegression, Ridge, Lasso, ElasticNet,\n",
    "    BayesianRidge, PassiveAggressiveRegressor\n",
    ")\n",
    "from sklearn.neighbors import KNeighborsClassifier, KNeighborsRegressor\n",
    "from sklearn.svm import SVC, SVR\n",
    "from sklearn.tree import DecisionTreeClassifier, DecisionTreeRegressor\n",
    "from sklearn.naive_bayes import GaussianNB\n",
    "from sklearn.ensemble import (\n",
    "    RandomForestClassifier, AdaBoostClassifier, ExtraTreesClassifier,\n",
    "    RandomForestRegressor, GradientBoostingRegressor\n",
    ")\n",
    "from sklearn.metrics import (\n",
    "    roc_auc_score, precision_score, recall_score, f1_score, r2_score, mean_squared_error,\n",
    "    accuracy_score, log_loss, confusion_matrix, classification_report,\n",
    "    mean_absolute_error, explained_variance_score\n",
    ")\n",
    "import xgboost as xgb\n",
    "from tqdm.auto import tqdm\n",
    "import seaborn as sns\n",
    "\n",
    "from lightgbm import LGBMClassifier\n",
    "from sklearn.neural_network import MLPRegressor\n",
    "from sklearn.neighbors import LocalOutlierFactor\n",
    "from sklearn.decomposition import PCA\n",
    "from sklearn.covariance import EllipticEnvelope\n",
    "from sklearn.cluster import KMeans\n",
    "from sklearn.preprocessing import OrdinalEncoder\n",
    "from sklearn.preprocessing import StandardScaler, MinMaxScaler, RobustScaler, label_binarize, LabelEncoder\n",
    "plt.rcParams['figure.figsize']=[10,5]\n",
    "from sklearn.utils import shuffle\n",
    "from imblearn.over_sampling import SMOTE\n",
    "import plotly.graph_objects as go\n",
    "from sklearn.feature_selection import RFE\n",
    "import plotly.express as px\n",
    "from sklearn.model_selection import train_test_split, GridSearchCV\n",
    "\n",
    "\n",
    "\n",
    "\n",
    "df = pd.read_csv(\"/home/titansax/Descargas/Steel_industry_data.csv\");\n",
    "\n",
    "# Load columns\n",
    "\n",
    "df.head()\n"
   ]
  },
  {
   "cell_type": "code",
   "execution_count": null,
   "metadata": {
    "colab": {
     "base_uri": "https://localhost:8080/"
    },
    "id": "UQxtpKHB-noZ",
    "outputId": "7fcc9532-9f3f-4dc0-c9f2-502bb8487da3"
   },
   "outputs": [],
   "source": [
    "\n",
    "# Shape dataset\n",
    "# We check here ho many rows has the dataset\n",
    "\n",
    "df.shape\n",
    "\n"
   ]
  },
  {
   "cell_type": "code",
   "execution_count": null,
   "metadata": {
    "colab": {
     "base_uri": "https://localhost:8080/"
    },
    "id": "s4iBsuk7-yx6",
    "outputId": "81e1929c-03b4-4249-9af2-3dae26b50d3b"
   },
   "outputs": [],
   "source": [
    "# Colum names array\n",
    "\n",
    "df.columns\n"
   ]
  },
  {
   "cell_type": "code",
   "execution_count": null,
   "metadata": {
    "colab": {
     "base_uri": "https://localhost:8080/"
    },
    "id": "YvR-t834_SXx",
    "outputId": "3134fa6d-6b7c-4256-f8ba-bab0daa4fc81"
   },
   "outputs": [],
   "source": [
    "# Check data types\n",
    "\n",
    "df.info()\n"
   ]
  },
  {
   "cell_type": "code",
   "execution_count": null,
   "metadata": {
    "colab": {
     "base_uri": "https://localhost:8080/"
    },
    "id": "I0YoagDb_dI6",
    "outputId": "9e72e2d1-34e7-445e-9507-d9c7127cee5a"
   },
   "outputs": [],
   "source": [
    "# Check null values\n",
    "\n",
    "df.isnull().sum()\n"
   ]
  },
  {
   "cell_type": "code",
   "execution_count": null,
   "metadata": {
    "colab": {
     "base_uri": "https://localhost:8080/"
    },
    "id": "BE6Iyq2c_3xB",
    "outputId": "5a7395ad-d951-4f5b-c465-589c1694fce0"
   },
   "outputs": [],
   "source": [
    "# Check number of unique values\n",
    "\n",
    "df.nunique()\n"
   ]
  },
  {
   "cell_type": "code",
   "execution_count": null,
   "metadata": {
    "colab": {
     "base_uri": "https://localhost:8080/"
    },
    "id": "WIblWXutzz9y",
    "outputId": "68bf7c62-b288-4f8f-ea30-67b2c82c9afc"
   },
   "outputs": [],
   "source": [
    "\n",
    "# Data Transformation:\n",
    "# Encode Categorical Columns\n",
    "categ = df.select_dtypes(include = \"object\").columns\n",
    "\n",
    "columns_to_convert = ['NSM']\n",
    "df[columns_to_convert] = df[columns_to_convert].astype(float)\n",
    "\n",
    "le = LabelEncoder()\n",
    "df[categ] = df[categ].apply(le.fit_transform)\n",
    "#count the value for load type after LabelEncoder\n",
    "df[\"Load_Type\"].value_counts()\n",
    "\n"
   ]
  },
  {
   "cell_type": "code",
   "execution_count": null,
   "metadata": {
    "colab": {
     "base_uri": "https://localhost:8080/",
     "height": 226
    },
    "id": "ncUCCYv74Xco",
    "outputId": "40b5c002-7015-4be3-e0d0-47a2f79dc7d1"
   },
   "outputs": [],
   "source": [
    "df.head()"
   ]
  },
  {
   "cell_type": "code",
   "execution_count": null,
   "metadata": {
    "colab": {
     "base_uri": "https://localhost:8080/"
    },
    "id": "jNpOzL9_4cWN",
    "outputId": "d70157dd-837a-429b-ce5b-7f5941b706b8"
   },
   "outputs": [],
   "source": [
    "df.info()\n"
   ]
  },
  {
   "cell_type": "code",
   "execution_count": null,
   "metadata": {
    "colab": {
     "base_uri": "https://localhost:8080/"
    },
    "id": "imCG792e4gLW",
    "outputId": "dc0e0b3b-c421-423e-c08d-eadc04493fd6"
   },
   "outputs": [],
   "source": [
    "df = df.drop('date', axis=1)\n",
    "df.info()"
   ]
  },
  {
   "cell_type": "code",
   "execution_count": null,
   "metadata": {
    "colab": {
     "base_uri": "https://localhost:8080/",
     "height": 226
    },
    "id": "5a-kR36R4jwq",
    "outputId": "55c135db-fbcf-4ddb-e09c-38348507a540"
   },
   "outputs": [],
   "source": [
    "# Data Augmentation\n",
    "# Apply random noise\n",
    "noisy_df = df.apply(lambda x: x + np.random.normal(0, 0.01, len(x)) if x.dtype == 'float' else x)\n",
    "\n",
    "# Duplicate and shuffle\n",
    "duplicated_df = pd.concat([df] * 2, ignore_index=True)\n",
    "shuffled_df = shuffle(duplicated_df)\n",
    "\n",
    "# Apply SMOTE\n",
    "X = df.drop('Load_Type', axis=1)\n",
    "y = df['Load_Type']\n",
    "\n",
    "smote = SMOTE()\n",
    "X_resampled, y_resampled = smote.fit_resample(X, y)\n",
    "\n",
    "X_resampled['Load_Type'] = y_resampled\n",
    "df_aug = X_resampled\n",
    "df_aug.head()"
   ]
  },
  {
   "cell_type": "code",
   "execution_count": null,
   "metadata": {
    "colab": {
     "base_uri": "https://localhost:8080/"
    },
    "id": "Es42zkBK4oUT",
    "outputId": "76d323d9-ae43-4f36-9d70-89767579cb71"
   },
   "outputs": [],
   "source": [
    "df_aug.info()\n"
   ]
  },
  {
   "cell_type": "code",
   "execution_count": null,
   "metadata": {
    "colab": {
     "base_uri": "https://localhost:8080/"
    },
    "id": "OLWvH8E-4o7U",
    "outputId": "dbc6d57a-8a48-499d-9385-dc5bb0d9f478"
   },
   "outputs": [],
   "source": [
    "#count the value for load type after data augmentstion\n",
    "df_aug[\"Load_Type\"].value_counts()"
   ]
  },
  {
   "cell_type": "code",
   "execution_count": null,
   "metadata": {
    "colab": {
     "base_uri": "https://localhost:8080/",
     "height": 542
    },
    "id": "j-RUED834whm",
    "outputId": "4b5d6136-e068-4bb5-f4ba-2b21331f0c7d"
   },
   "outputs": [],
   "source": [
    "# Count the occurrences of each load type\n",
    "load_type_counts = df_aug['Load_Type'].value_counts()\n",
    "\n",
    "labals_lis = ['Light Load',\n",
    "              'Medium Load',\n",
    "              'Maximum Load' ]\n",
    "\n",
    "# Create the pie chart\n",
    "fig = go.Figure(data=[go.Pie(labels=labals_lis, values=load_type_counts.values)])\n",
    "fig.update_layout(title='Distribution of Load Types after Augmentation')\n",
    "fig.show()"
   ]
  },
  {
   "cell_type": "code",
   "execution_count": null,
   "metadata": {
    "colab": {
     "base_uri": "https://localhost:8080/",
     "height": 542
    },
    "id": "08MODxBg4xPO",
    "outputId": "40c774f8-18b3-43e0-d0bd-2fba3a7ae397"
   },
   "outputs": [],
   "source": [
    "def feature_selection_using_RF(x,y):\n",
    "    model = RandomForestClassifier()\n",
    "    rfe = RFE(model, n_features_to_select=5)  # Choose the number of features to select\n",
    "    rfe.fit(x, y)\n",
    "\n",
    "    selected_features = x.columns[rfe.support_]\n",
    "    importances = np.max(rfe.ranking_) + 1 - rfe.ranking_\n",
    "    fig = px.bar(x=x.columns, y=importances, labels={'x': 'Feature', 'y': 'Importance'},\n",
    "                     title='Feature Importances')\n",
    "    fig.show()\n",
    "    x = x[selected_features]\n",
    "    return x,y\n",
    "x = df.drop(['Load_Type'], axis=1)\n",
    "y = df.Load_Type\n",
    "xg = df_aug.drop(['Load_Type'], axis=1)\n",
    "yg = df_aug.Load_Type\n",
    "x , y = feature_selection_using_RF(x,y)\n"
   ]
  },
  {
   "cell_type": "code",
   "execution_count": null,
   "metadata": {
    "colab": {
     "base_uri": "https://localhost:8080/",
     "height": 542
    },
    "id": "kXQuWMl663Qj",
    "outputId": "8c73725b-c497-4ee1-9b62-266742cca872"
   },
   "outputs": [],
   "source": [
    "xg , yg = feature_selection_using_RF(xg,yg)\n"
   ]
  },
  {
   "cell_type": "code",
   "execution_count": null,
   "metadata": {
    "id": "QKsRKY3i686g"
   },
   "outputs": [],
   "source": [
    "# Split the dataset and prepare some lists to store the models\n",
    "x_train, x_test, y_train, y_test = train_test_split(x, y, test_size=0.25, random_state = 42)\n",
    "xg_train, xg_test, yg_train, yg_test = train_test_split(xg, yg, test_size=0.25, random_state = 42)"
   ]
  },
  {
   "cell_type": "code",
   "execution_count": null,
   "metadata": {
    "id": "6kISnhCZ7oUP"
   },
   "outputs": [],
   "source": [
    "#Loop for the training model\n",
    "names = [\n",
    "    \"Logistic Regression\",\n",
    "    \"KNN\",\n",
    "    \"Decision Tree\",\n",
    "    \"Naive Bayes\",\n",
    "    \"Random Forest\",\n",
    "    \"Random Forest with Extra Trees\",\n",
    "    \"AdaBoost\",\n",
    "    \"XGBoost\"\n",
    "]\n",
    "\n",
    "clf = [\n",
    "    LogisticRegression(),\n",
    "    KNeighborsClassifier(3),\n",
    "    DecisionTreeClassifier(max_depth=5),\n",
    "    GaussianNB(),\n",
    "    RandomForestClassifier(n_estimators=200, max_leaf_nodes=16),\n",
    "    ExtraTreesClassifier(),\n",
    "    AdaBoostClassifier(DecisionTreeClassifier(max_depth=3)),\n",
    "    xgb.XGBClassifier()\n",
    "]"
   ]
  },
  {
   "cell_type": "code",
   "execution_count": null,
   "metadata": {
    "id": "XnJZ8lew7s3a"
   },
   "outputs": [],
   "source": [
    "def train_clf(x_train, y_train,x_test, y_test):\n",
    "    scores = []\n",
    "    for model in tqdm(clf):\n",
    "        model.fit(x_train, y_train)\n",
    "        score = model.score(x_test, y_test)\n",
    "        scores.append(score)\n",
    "#         print(model)\n",
    "#         print(score)\n",
    "    return pd.DataFrame(zip(names,scores), columns=['Classifier', 'Accuracy'])"
   ]
  },
  {
   "cell_type": "code",
   "execution_count": null,
   "metadata": {
    "colab": {
     "base_uri": "https://localhost:8080/",
     "height": 904,
     "referenced_widgets": [
      "e53bc7f6a7c14db8b8771560349e67a3",
      "83181c31828246dab4f16aac4cf4be4b",
      "20dda12b908a4018a7f27fac79b07761",
      "02629251058740239ee92c3daf03c06a",
      "6b58e6289ba348e589b43209cc3b0259",
      "6be05eb0a7b6498092fe143f8ee4d9c5",
      "b51706a131d74c6fbfa62f259eadda8e",
      "ee23f2372de2443aa1c4a42ad312c09c",
      "3258b8c3afb24c2c9286e8cb2caeb4b4",
      "510652f0c03944959ba10fab7f06087f",
      "ce00ee17bbf44cbaba52416baa616171"
     ]
    },
    "id": "OuMBlIh97yWs",
    "outputId": "93607fb1-1ab3-4da4-ed1e-fbd85214eb71"
   },
   "outputs": [],
   "source": [
    "#List the classifier and their accuracy\n",
    "scores_df = train_clf(x_train, y_train,x_test, y_test)\n",
    "scores_df = scores_df.sort_values(by=['Accuracy'], ascending=[False])\n",
    "print(scores_df)\n",
    "\n",
    "# Plot the accuracies using Plotly Express\n",
    "fig = px.bar(scores_df, x='Classifier', y='Accuracy', labels={'Classifier': 'Classifier', 'Accuracy': 'Accuracy'},\n",
    "             title='Classifier Accuracies')\n",
    "fig.update_layout(xaxis_title='Classifier', yaxis_title='Accuracy')\n",
    "fig.show()"
   ]
  },
  {
   "cell_type": "code",
   "execution_count": null,
   "metadata": {
    "colab": {
     "base_uri": "https://localhost:8080/",
     "height": 904,
     "referenced_widgets": [
      "56b3c7ec3c654de7abf0d6f4d742d781",
      "28a008f357684b81bbe426a8597f531d",
      "b8cb2688ce0f4a55971fcf3b1dba6ec7",
      "c80cb4bff8f34ca4bd009d384739eaa9",
      "8fab983cf0a240ec960fe49a0c51daf1",
      "d8e4c16b0e764451b75117c0ff884873",
      "4b9d42f856dd4180acf5f1ca1bfaceac",
      "5a8cb1d29d41477292609b27d83069e5",
      "d3f3e5e2cefe434780ea7b84a8b0f137",
      "dea20d9e4d4444929741a83faac7e387",
      "725cf27e565e4620bd32768c8554bcc9"
     ]
    },
    "id": "CTgbuhsc7627",
    "outputId": "da91e1f2-596b-4a9b-ba35-c60ca1759ff9"
   },
   "outputs": [],
   "source": [
    "#List the classifier and their accuracy\n",
    "scores_df_aug = train_clf(xg_train, yg_train,xg_test, yg_test)\n",
    "scores_df_aug = scores_df_aug.sort_values(by=['Accuracy'], ascending=[False])\n",
    "print(scores_df)\n",
    "\n",
    "# Plot the accuracies using Plotly Express\n",
    "fig = px.bar(scores_df_aug, x='Classifier', y='Accuracy', labels={'Classifier': 'Classifier', 'Accuracy': 'Accuracy'},\n",
    "             title='Classifier Accuracies')\n",
    "fig.update_layout(xaxis_title='Classifier', yaxis_title='Accuracy')\n",
    "fig.show()"
   ]
  },
  {
   "cell_type": "code",
   "execution_count": null,
   "metadata": {
    "colab": {
     "base_uri": "https://localhost:8080/",
     "height": 562
    },
    "id": "9G41yweQoj_V",
    "outputId": "a7c80098-f332-432d-90d3-5830e9026207"
   },
   "outputs": [],
   "source": [
    "\n",
    "# Plot the accuracies using Plotly Express\n",
    "fig = px.bar(scores_df, x='Classifier', y='Accuracy', labels={'Classifier': 'Classifier', 'Accuracy': 'Accuracy'},\n",
    "             title='Classifier Accuracies')\n",
    "fig.update_layout(xaxis_title='Classifier', yaxis_title='Accuracy')\n",
    "fig.show()"
   ]
  },
  {
   "cell_type": "code",
   "execution_count": null,
   "metadata": {
    "colab": {
     "base_uri": "https://localhost:8080/"
    },
    "id": "TyQwnE4VqPqA",
    "outputId": "537b7723-f2c6-463a-de16-94e83d53cf99"
   },
   "outputs": [],
   "source": [
    "#Naive grid search implementation\n",
    "parameters = {'max_depth': range (2, 10, 1),\n",
    "    'n_estimators': range(60, 220, 40),\n",
    "    'learning_rate': [0.1, 0.01, 0.05]}\n",
    "CBC = xgb.XGBClassifier()\n",
    "Grid_CBC = GridSearchCV(estimator=CBC, param_grid = parameters, cv = 2, n_jobs=-1)\n",
    "Grid_CBC.fit(xg_train, yg_train)\n",
    "\n",
    "print(\"Results from Grid Search\" )\n",
    "print(\"\\n The best estimator across ALL searched params:\\n\",Grid_CBC.best_estimator_)\n",
    "print(\"\\n The best score across ALL searched params:\\n\",Grid_CBC.best_score_)\n",
    "print(\"\\n The best parameters across ALL searched params:\\n\",Grid_CBC.best_params_)"
   ]
  },
  {
   "cell_type": "code",
   "execution_count": null,
   "metadata": {
    "colab": {
     "base_uri": "https://localhost:8080/",
     "height": 118
    },
    "id": "CXhlq2AxqdTL",
    "outputId": "dfd33f56-8445-4463-a778-b12fd2f34f94"
   },
   "outputs": [],
   "source": [
    "#This is the classification model with the best parameters\n",
    "Grid_CBC\n"
   ]
  },
  {
   "cell_type": "code",
   "execution_count": null,
   "metadata": {
    "id": "CDHqoOFPqhVS"
   },
   "outputs": [],
   "source": [
    "# Make predictions on the test set\n",
    "yg_pred = Grid_CBC.predict(xg_test)"
   ]
  },
  {
   "cell_type": "code",
   "execution_count": null,
   "metadata": {
    "id": "DIL-UyhHqmfm"
   },
   "outputs": [],
   "source": [
    "# Calculate evaluation metrics\n",
    "def cls_report(y_test, y_pred):\n",
    "    y_test_binarized = label_binarize(y_test, classes=[0, 1, 2])\n",
    "    n_classes = y_test_binarized.shape[1]\n",
    "    y_pred_reshaped = y_pred.reshape(-1, 1)\n",
    "    class_report = classification_report(y_test, y_pred)\n",
    "    conf_matrix = confusion_matrix(y_test, y_pred)\n",
    "    roc_auc = roc_auc_score(y_test_binarized, y_pred_reshaped)\n",
    "    mse = mean_squared_error(y_test, y_pred)\n",
    "    r2 = r2_score(y_test, y_pred)\n",
    "    return class_report, conf_matrix, roc_auc, mse, r2"
   ]
  },
  {
   "cell_type": "code",
   "execution_count": null,
   "metadata": {
    "id": "ZiOgRaXxqr9w"
   },
   "outputs": [],
   "source": [
    "class_report, conf_matrix, roc_auc, mse, r2 = cls_report(yg_test, yg_pred)\n"
   ]
  },
  {
   "cell_type": "code",
   "execution_count": null,
   "metadata": {
    "colab": {
     "base_uri": "https://localhost:8080/",
     "height": 892
    },
    "id": "8A1c1Yc_qzOP",
    "outputId": "61f2c606-9a1d-474d-c15e-c715004d3e31"
   },
   "outputs": [],
   "source": [
    "# Print the results\n",
    "print(f\"AUC-ROC: {roc_auc:.4f}\")\n",
    "print('Mean Squared Error:', mse)\n",
    "print('R-squared:', r2)\n",
    "print(\"\\nClassification Report:\")\n",
    "print(class_report)\n",
    "print(\"Confusion Matrix:\")\n",
    "print(conf_matrix)\n",
    "\n",
    "# Create a DataFrame for the confusion matrix\n",
    "classes = ['Light Load','Maximum Load' ,  ' Medium Load']\n",
    "df_cm = pd.DataFrame(conf_matrix, index=classes, columns=classes)\n",
    "\n",
    "# Plot the confusion matrix heatmap using Plotly Express\n",
    "fig = px.imshow(df_cm,\n",
    "                labels=dict(x=\"Predicted Label\", y=\"True Label\", color=\"Count\"),\n",
    "                x=classes,\n",
    "                y=classes,\n",
    "                color_continuous_scale='Viridis')\n",
    "\n",
    "# Customize the layout\n",
    "fig.update_layout(title='Confusion Matrix',\n",
    "                  xaxis_title='Predicted Label',\n",
    "                  yaxis_title='True Label')\n",
    "\n",
    "# Show the plot\n",
    "fig.show()"
   ]
  },
  {
   "cell_type": "code",
   "execution_count": null,
   "metadata": {
    "colab": {
     "base_uri": "https://localhost:8080/",
     "height": 562
    },
    "id": "S5ID9mPqq4Gk",
    "outputId": "b685daed-5f6c-4ffd-d13b-7a691a55396a"
   },
   "outputs": [],
   "source": [
    "# Now we try regression models\n",
    "\n",
    "def feature_selection_using_RFR(x,y):\n",
    "    model = RandomForestRegressor()\n",
    "    rfe = RFE(model, n_features_to_select=5)  # Choose the number of features to select\n",
    "    rfe.fit(x, y)\n",
    "\n",
    "    selected_features = x.columns[rfe.support_]\n",
    "    importances = np.max(rfe.ranking_) + 1 - rfe.ranking_\n",
    "    fig = px.bar(x=x.columns, y=importances, labels={'x': 'Feature', 'y': 'Importance'},\n",
    "                     title='Feature Importances')\n",
    "    fig.show()\n",
    "    x = x[selected_features]\n",
    "    return x,y\n",
    "# Split the dataset and prepare some lists to store the models\n",
    "x = df.drop(['Usage_kWh'], axis=1)\n",
    "y = df.Usage_kWh\n",
    "# Split the dataset and prepare some lists to store the models\n",
    "xg = df_aug.drop(['Usage_kWh'], axis=1)\n",
    "yg = df_aug.Usage_kWh\n",
    "x , y = feature_selection_using_RFR(x,y)\n"
   ]
  },
  {
   "cell_type": "code",
   "execution_count": null,
   "metadata": {
    "colab": {
     "base_uri": "https://localhost:8080/",
     "height": 562
    },
    "id": "Ozpg8sk4tVqy",
    "outputId": "a0db8a32-0756-4018-9e8e-5695527c11f2"
   },
   "outputs": [],
   "source": [
    "xg , yg = feature_selection_using_RFR(xg,yg)\n"
   ]
  },
  {
   "cell_type": "code",
   "execution_count": null,
   "metadata": {
    "id": "c-ZVr0ArtXuv"
   },
   "outputs": [],
   "source": [
    "# Split the dataset and prepare some lists to store the models\n",
    "x_train, x_test, y_train, y_test = train_test_split(x, y, test_size=0.25, random_state = 42)\n",
    "xg_train, xg_test, yg_train, yg_test = train_test_split(xg, yg, test_size=0.25, random_state = 42)\n"
   ]
  },
  {
   "cell_type": "code",
   "execution_count": null,
   "metadata": {
    "colab": {
     "base_uri": "https://localhost:8080/",
     "height": 661,
     "referenced_widgets": [
      "9aa9c357f8f0449094ae6b463557add2",
      "a93ce3f353554cc99000ea5a226cc93a",
      "e92197739a8c42e7aee30d2ed313cae8",
      "256780e945aa43028fad04569d423770",
      "6ceb138ffe624d2cb64a192eabb6a766",
      "f23e8cb8863248c280ef63a2ee4a5195",
      "6b7cd4eb928d453ab2ac68fc39027110",
      "978c485fec3b416182aff2085b25d899",
      "ea580afce21a429fadb24e10215b0088",
      "762c1c4a2f914a43b97bf207e41f37a4",
      "04ce6e0273e94aaea5b7d554a0abc5ee"
     ]
    },
    "id": "tCMpJqeUtgkJ",
    "outputId": "36c34fe7-58a7-41d9-f8d7-48ed16f5ddc7"
   },
   "outputs": [],
   "source": [
    "#Loop for the training model\n",
    "names = [\n",
    "    \"Linear Regression\",\n",
    "    \"Ridge Regression\",\n",
    "    \"KNN Regression\",\n",
    "    \"Bayesian Ridge Regression\"\n",
    "]\n",
    "\n",
    "reg = [\n",
    "    LinearRegression(),\n",
    "    Ridge(alpha=0.5),\n",
    "    KNeighborsRegressor(n_neighbors=35,leaf_size=50),\n",
    "    BayesianRidge()\n",
    "]\n",
    "def train_reg(x_train, y_train,x_test, y_test):\n",
    "    scores = []\n",
    "    for model in tqdm(reg):\n",
    "        model.fit(x_train, y_train)\n",
    "        score = model.score(x_test, y_test)\n",
    "        scores.append(score)\n",
    "#         print(model)\n",
    "#         print(score)\n",
    "    return pd.DataFrame(zip(names,scores), columns=['Regressor', 'Accuracy'])\n",
    "#List the Regressor and their accuracy\n",
    "scores_df = train_reg(x_train, y_train,x_test, y_test)\n",
    "scores_df = scores_df.sort_values(by=['Accuracy'], ascending=[False])\n",
    "print(scores_df)\n",
    "\n",
    "# Plot the accuracies using Plotly Express\n",
    "fig = px.bar(scores_df, x='Regressor', y='Accuracy', labels={'Regressor': 'Regressor', 'Accuracy': 'Accuracy'},\n",
    "             title='Regression Model Accuracies')\n",
    "fig.update_layout(xaxis_title='Regressor', yaxis_title='Accuracy')\n",
    "fig.show()\n"
   ]
  },
  {
   "cell_type": "code",
   "execution_count": null,
   "metadata": {
    "colab": {
     "base_uri": "https://localhost:8080/",
     "height": 661,
     "referenced_widgets": [
      "614fa637d2944158aeae63462e893110",
      "eebcb9c3e07c4bedbbdd6941a9e094c7",
      "7f4bb866476142248cf272b4552b7397",
      "f422f78782ca42759aa455361cb815e5",
      "6c78e119dec7479ea15a4f34417213c1",
      "88fee66ccd454e93848b5dcc819fb8ea",
      "e81b34c132dc4358957543c19d6abd70",
      "74ee4e7bef3c4bd9a1d619924d8a974c",
      "5bc6b479de8845b38952602be1985655",
      "d635e5d62fd5481795b1aa6afd6d60e9",
      "e7aebdaafa0c4815b1ed3b4b8d8b64d7"
     ]
    },
    "id": "O89lpbk8ts3f",
    "outputId": "3ee7ba92-98e6-464a-a9ed-0970ff149d61"
   },
   "outputs": [],
   "source": [
    "#List the Regressor and their accuracy\n",
    "scores_df_aug = train_reg(xg_train, yg_train,xg_test, yg_test)\n",
    "scores_df_aug = scores_df_aug.sort_values(by=['Accuracy'], ascending=[False])\n",
    "print(scores_df_aug)\n",
    "\n",
    "# Plot the accuracies using Plotly Express\n",
    "fig = px.bar(scores_df_aug, x='Regressor', y='Accuracy', labels={'Regressor': 'Regressor', 'Accuracy': 'Accuracy'},\n",
    "             title='Regression Model Accuracies')\n",
    "fig.update_layout(xaxis_title='Regressor', yaxis_title='Accuracy')\n",
    "fig.show()"
   ]
  },
  {
   "cell_type": "code",
   "execution_count": null,
   "metadata": {
    "colab": {
     "base_uri": "https://localhost:8080/",
     "height": 974
    },
    "id": "EPFe6qo4x0yS",
    "outputId": "f88eb3b7-a50e-4317-adc5-828692c141a9"
   },
   "outputs": [],
   "source": [
    "# We conclude then that the model that best fist to our data is the Lineal Regression model\n",
    "# Now we Analyze the correlations\n",
    "df = df.drop(df.index[0:96])\n",
    "\n",
    "#visualize the correlation using pearson correlation\n",
    "plt.figure(figsize = (8,6))\n",
    "sns.heatmap(df.corr())\n",
    "plt.title(\"Pearson Correlation\", fontsize = 15, color = 'b', pad = 12, loc = 'center')\n",
    "plt.show()\n",
    "\n",
    "'''\n",
    "The correlation of CO² and KWH is very high and makes sense, since in practice this has a direct relationship.\n",
    "\n",
    "Reactive Power (kVarh): This is the power that oscillates back and forth, not doing any actual work but is necessary for the system to function. It’s divided into “lagging” (inductive load) and “leading” (capacitive load).\n",
    "\n",
    "These terms are related to electrical power systems.\n",
    "\n",
    "Reactive Power (kVarh): This is the power that oscillates back and forth, not doing any actual work but is necessary for the system to function. It's divided into \"lagging\" (inductive load) and \"leading\" (capacitive load).\n",
    "\n",
    "Power Factor: This is the ratio of real power (doing actual work) to apparent power (the total power supplied). It's also divided into \"lagging\" (when current lags behind voltage) and \"leading\" (when current leads the voltage).\n",
    "\n",
    "In short, these terms describe different aspects of how electrical power is used and managed in a power system.\n",
    "'''\n"
   ]
  },
  {
   "cell_type": "code",
   "execution_count": null,
   "metadata": {
    "colab": {
     "base_uri": "https://localhost:8080/"
    },
    "id": "OCMggjKOzcoJ",
    "outputId": "ba07999e-3dbf-4278-d932-40ddeaaf4bfd"
   },
   "outputs": [],
   "source": [
    "# Training Linear regression model and exporiting it for making inferences\n",
    "# -------------------------------------------------------------------------\n",
    "# -------------------------------------------------------------------------\n",
    "\n",
    "\n",
    "# Load DataSet\n",
    "df = pd.read_csv(\"/content/drive/MyDrive/Steel_industry_data.csv\");\n",
    "\n",
    "# Handling Missing And Categorical data\n",
    "\n",
    "# Calculate the number of missing values in each column of the DataFrame\n",
    "missing_value_counts = df.isna().sum()\n",
    "missing_value_counts\n",
    "\n",
    "df.dtypes\n",
    "\n",
    "df=df.drop(['date'], axis=1)\n",
    "\n",
    "df['WeekStatus'] = df['WeekStatus'].map({'Weekday': 0, 'Weekend': 1})\n",
    "df['Day_of_week'] = df['Day_of_week'].map({'Monday': 0, 'Tuesday': 1, 'Wednesday':2,'Thursday':3,'Friday':4,'Saturday':5,'Sunday':6})\n",
    "df['Load_Type'] = df['Load_Type'].map({'Light_Load': 0, 'Medium_Load': 1, 'Maximum_Load':2})\n",
    "\n",
    "\n",
    "# Data Preprocessing\n",
    "\n",
    "# Splitting the DataFrame\n",
    "\n",
    "\n",
    "#Independent Features\n",
    "X = df.drop(['Usage_kWh'], axis=1)\n",
    "#Dependent Feature/Target\n",
    "y=df.Usage_kWh\n",
    "\n",
    "# Splitting the Data into Training and Testing Sets\n",
    "from sklearn.model_selection import train_test_split\n",
    "X_train, X_test, y_train, y_test = train_test_split(X, y, test_size=0.3, random_state=42)\n",
    "\n",
    "print(\"Training Set - X_train shape:\", X_train.shape)\n",
    "print(\"Testing Set - X_test shape:\", X_test.shape)\n",
    "print(\"Training Set - y_train shape:\", y_train.shape)\n",
    "print(\"Testing Set - y_test shape:\", y_test.shape)\n",
    "\n",
    "from sklearn.linear_model import LinearRegression\n",
    "lr=LinearRegression()\n",
    "lr.fit(X_train,y_train)\n",
    "\n",
    "y_pred=lr.predict(X_test)\n",
    "\n",
    "lr_model=pd.DataFrame({'Actual Value':y_test,'Predicted Value':y_pred,'Difference':y_test-y_pred})\n"
   ]
  },
  {
   "cell_type": "code",
   "execution_count": null,
   "metadata": {
    "colab": {
     "base_uri": "https://localhost:8080/"
    },
    "id": "1U9AqMv70Kl-",
    "outputId": "73d3d551-aff6-4fa8-ccac-8b5d554411be"
   },
   "outputs": [],
   "source": [
    "\n",
    "#Model Evaluation\n",
    "\n",
    "print('LinearRegression model')\n",
    "mean_squared_error=metrics.mean_squared_error(y_test,y_pred)\n",
    "print('Sqaured mean error', round(np.sqrt(mean_squared_error),2))\n",
    "print('R squared training',round(lr.score(X_train,y_train),4))\n",
    "print('R sqaured testing',round(lr.score(X_test,y_test),4) )\n",
    "\n",
    "\n",
    "# Make prediction using random data from the dataset\n",
    "\n",
    "Usage_Kw = lr.predict(\n",
    "    [[5,0.0,0.0,61.4,100.0,14400.00,0,1,0]])\n",
    "\n",
    "\n",
    "print(f\"Predicted Usage_Kw : {Usage_Kw[0]}\")\n"
   ]
  },
  {
   "cell_type": "code",
   "execution_count": null,
   "metadata": {
    "id": "pG09lSLg0YkZ"
   },
   "outputs": [],
   "source": [
    "# Saving model in pickle file\n",
    "with open(\"lr_model.pkl\", 'wb') as file:\n",
    "    pickle.dump(lr, file)\n"
   ]
  },
  {
   "cell_type": "code",
   "execution_count": null,
   "metadata": {
    "id": "lSjZ9gLFCyqf"
   },
   "outputs": [],
   "source": []
  },
  {
   "cell_type": "code",
   "execution_count": null,
   "metadata": {},
   "outputs": [],
   "source": []
  },
  {
   "cell_type": "code",
   "execution_count": null,
   "metadata": {},
   "outputs": [],
   "source": []
  }
 ],
 "metadata": {
  "colab": {
   "provenance": []
  },
  "kernelspec": {
   "display_name": "Python 3 (ipykernel)",
   "language": "python",
   "name": "python3"
  },
  "language_info": {
   "codemirror_mode": {
    "name": "ipython",
    "version": 3
   },
   "file_extension": ".py",
   "mimetype": "text/x-python",
   "name": "python",
   "nbconvert_exporter": "python",
   "pygments_lexer": "ipython3",
   "version": "3.10.12"
  },
  "widgets": {
   "application/vnd.jupyter.widget-state+json": {
    "02629251058740239ee92c3daf03c06a": {
     "model_module": "@jupyter-widgets/controls",
     "model_module_version": "1.5.0",
     "model_name": "HTMLModel",
     "state": {
      "_dom_classes": [],
      "_model_module": "@jupyter-widgets/controls",
      "_model_module_version": "1.5.0",
      "_model_name": "HTMLModel",
      "_view_count": null,
      "_view_module": "@jupyter-widgets/controls",
      "_view_module_version": "1.5.0",
      "_view_name": "HTMLView",
      "description": "",
      "description_tooltip": null,
      "layout": "IPY_MODEL_510652f0c03944959ba10fab7f06087f",
      "placeholder": "​",
      "style": "IPY_MODEL_ce00ee17bbf44cbaba52416baa616171",
      "value": " 8/8 [00:10&lt;00:00,  1.32s/it]"
     }
    },
    "04ce6e0273e94aaea5b7d554a0abc5ee": {
     "model_module": "@jupyter-widgets/controls",
     "model_module_version": "1.5.0",
     "model_name": "DescriptionStyleModel",
     "state": {
      "_model_module": "@jupyter-widgets/controls",
      "_model_module_version": "1.5.0",
      "_model_name": "DescriptionStyleModel",
      "_view_count": null,
      "_view_module": "@jupyter-widgets/base",
      "_view_module_version": "1.2.0",
      "_view_name": "StyleView",
      "description_width": ""
     }
    },
    "20dda12b908a4018a7f27fac79b07761": {
     "model_module": "@jupyter-widgets/controls",
     "model_module_version": "1.5.0",
     "model_name": "FloatProgressModel",
     "state": {
      "_dom_classes": [],
      "_model_module": "@jupyter-widgets/controls",
      "_model_module_version": "1.5.0",
      "_model_name": "FloatProgressModel",
      "_view_count": null,
      "_view_module": "@jupyter-widgets/controls",
      "_view_module_version": "1.5.0",
      "_view_name": "ProgressView",
      "bar_style": "success",
      "description": "",
      "description_tooltip": null,
      "layout": "IPY_MODEL_ee23f2372de2443aa1c4a42ad312c09c",
      "max": 8,
      "min": 0,
      "orientation": "horizontal",
      "style": "IPY_MODEL_3258b8c3afb24c2c9286e8cb2caeb4b4",
      "value": 8
     }
    },
    "256780e945aa43028fad04569d423770": {
     "model_module": "@jupyter-widgets/controls",
     "model_module_version": "1.5.0",
     "model_name": "HTMLModel",
     "state": {
      "_dom_classes": [],
      "_model_module": "@jupyter-widgets/controls",
      "_model_module_version": "1.5.0",
      "_model_name": "HTMLModel",
      "_view_count": null,
      "_view_module": "@jupyter-widgets/controls",
      "_view_module_version": "1.5.0",
      "_view_name": "HTMLView",
      "description": "",
      "description_tooltip": null,
      "layout": "IPY_MODEL_762c1c4a2f914a43b97bf207e41f37a4",
      "placeholder": "​",
      "style": "IPY_MODEL_04ce6e0273e94aaea5b7d554a0abc5ee",
      "value": " 4/4 [00:00&lt;00:00, 10.35it/s]"
     }
    },
    "28a008f357684b81bbe426a8597f531d": {
     "model_module": "@jupyter-widgets/controls",
     "model_module_version": "1.5.0",
     "model_name": "HTMLModel",
     "state": {
      "_dom_classes": [],
      "_model_module": "@jupyter-widgets/controls",
      "_model_module_version": "1.5.0",
      "_model_name": "HTMLModel",
      "_view_count": null,
      "_view_module": "@jupyter-widgets/controls",
      "_view_module_version": "1.5.0",
      "_view_name": "HTMLView",
      "description": "",
      "description_tooltip": null,
      "layout": "IPY_MODEL_d8e4c16b0e764451b75117c0ff884873",
      "placeholder": "​",
      "style": "IPY_MODEL_4b9d42f856dd4180acf5f1ca1bfaceac",
      "value": "100%"
     }
    },
    "3258b8c3afb24c2c9286e8cb2caeb4b4": {
     "model_module": "@jupyter-widgets/controls",
     "model_module_version": "1.5.0",
     "model_name": "ProgressStyleModel",
     "state": {
      "_model_module": "@jupyter-widgets/controls",
      "_model_module_version": "1.5.0",
      "_model_name": "ProgressStyleModel",
      "_view_count": null,
      "_view_module": "@jupyter-widgets/base",
      "_view_module_version": "1.2.0",
      "_view_name": "StyleView",
      "bar_color": null,
      "description_width": ""
     }
    },
    "4b9d42f856dd4180acf5f1ca1bfaceac": {
     "model_module": "@jupyter-widgets/controls",
     "model_module_version": "1.5.0",
     "model_name": "DescriptionStyleModel",
     "state": {
      "_model_module": "@jupyter-widgets/controls",
      "_model_module_version": "1.5.0",
      "_model_name": "DescriptionStyleModel",
      "_view_count": null,
      "_view_module": "@jupyter-widgets/base",
      "_view_module_version": "1.2.0",
      "_view_name": "StyleView",
      "description_width": ""
     }
    },
    "510652f0c03944959ba10fab7f06087f": {
     "model_module": "@jupyter-widgets/base",
     "model_module_version": "1.2.0",
     "model_name": "LayoutModel",
     "state": {
      "_model_module": "@jupyter-widgets/base",
      "_model_module_version": "1.2.0",
      "_model_name": "LayoutModel",
      "_view_count": null,
      "_view_module": "@jupyter-widgets/base",
      "_view_module_version": "1.2.0",
      "_view_name": "LayoutView",
      "align_content": null,
      "align_items": null,
      "align_self": null,
      "border": null,
      "bottom": null,
      "display": null,
      "flex": null,
      "flex_flow": null,
      "grid_area": null,
      "grid_auto_columns": null,
      "grid_auto_flow": null,
      "grid_auto_rows": null,
      "grid_column": null,
      "grid_gap": null,
      "grid_row": null,
      "grid_template_areas": null,
      "grid_template_columns": null,
      "grid_template_rows": null,
      "height": null,
      "justify_content": null,
      "justify_items": null,
      "left": null,
      "margin": null,
      "max_height": null,
      "max_width": null,
      "min_height": null,
      "min_width": null,
      "object_fit": null,
      "object_position": null,
      "order": null,
      "overflow": null,
      "overflow_x": null,
      "overflow_y": null,
      "padding": null,
      "right": null,
      "top": null,
      "visibility": null,
      "width": null
     }
    },
    "56b3c7ec3c654de7abf0d6f4d742d781": {
     "model_module": "@jupyter-widgets/controls",
     "model_module_version": "1.5.0",
     "model_name": "HBoxModel",
     "state": {
      "_dom_classes": [],
      "_model_module": "@jupyter-widgets/controls",
      "_model_module_version": "1.5.0",
      "_model_name": "HBoxModel",
      "_view_count": null,
      "_view_module": "@jupyter-widgets/controls",
      "_view_module_version": "1.5.0",
      "_view_name": "HBoxView",
      "box_style": "",
      "children": [
       "IPY_MODEL_28a008f357684b81bbe426a8597f531d",
       "IPY_MODEL_b8cb2688ce0f4a55971fcf3b1dba6ec7",
       "IPY_MODEL_c80cb4bff8f34ca4bd009d384739eaa9"
      ],
      "layout": "IPY_MODEL_8fab983cf0a240ec960fe49a0c51daf1"
     }
    },
    "5a8cb1d29d41477292609b27d83069e5": {
     "model_module": "@jupyter-widgets/base",
     "model_module_version": "1.2.0",
     "model_name": "LayoutModel",
     "state": {
      "_model_module": "@jupyter-widgets/base",
      "_model_module_version": "1.2.0",
      "_model_name": "LayoutModel",
      "_view_count": null,
      "_view_module": "@jupyter-widgets/base",
      "_view_module_version": "1.2.0",
      "_view_name": "LayoutView",
      "align_content": null,
      "align_items": null,
      "align_self": null,
      "border": null,
      "bottom": null,
      "display": null,
      "flex": null,
      "flex_flow": null,
      "grid_area": null,
      "grid_auto_columns": null,
      "grid_auto_flow": null,
      "grid_auto_rows": null,
      "grid_column": null,
      "grid_gap": null,
      "grid_row": null,
      "grid_template_areas": null,
      "grid_template_columns": null,
      "grid_template_rows": null,
      "height": null,
      "justify_content": null,
      "justify_items": null,
      "left": null,
      "margin": null,
      "max_height": null,
      "max_width": null,
      "min_height": null,
      "min_width": null,
      "object_fit": null,
      "object_position": null,
      "order": null,
      "overflow": null,
      "overflow_x": null,
      "overflow_y": null,
      "padding": null,
      "right": null,
      "top": null,
      "visibility": null,
      "width": null
     }
    },
    "5bc6b479de8845b38952602be1985655": {
     "model_module": "@jupyter-widgets/controls",
     "model_module_version": "1.5.0",
     "model_name": "ProgressStyleModel",
     "state": {
      "_model_module": "@jupyter-widgets/controls",
      "_model_module_version": "1.5.0",
      "_model_name": "ProgressStyleModel",
      "_view_count": null,
      "_view_module": "@jupyter-widgets/base",
      "_view_module_version": "1.2.0",
      "_view_name": "StyleView",
      "bar_color": null,
      "description_width": ""
     }
    },
    "614fa637d2944158aeae63462e893110": {
     "model_module": "@jupyter-widgets/controls",
     "model_module_version": "1.5.0",
     "model_name": "HBoxModel",
     "state": {
      "_dom_classes": [],
      "_model_module": "@jupyter-widgets/controls",
      "_model_module_version": "1.5.0",
      "_model_name": "HBoxModel",
      "_view_count": null,
      "_view_module": "@jupyter-widgets/controls",
      "_view_module_version": "1.5.0",
      "_view_name": "HBoxView",
      "box_style": "",
      "children": [
       "IPY_MODEL_eebcb9c3e07c4bedbbdd6941a9e094c7",
       "IPY_MODEL_7f4bb866476142248cf272b4552b7397",
       "IPY_MODEL_f422f78782ca42759aa455361cb815e5"
      ],
      "layout": "IPY_MODEL_6c78e119dec7479ea15a4f34417213c1"
     }
    },
    "6b58e6289ba348e589b43209cc3b0259": {
     "model_module": "@jupyter-widgets/base",
     "model_module_version": "1.2.0",
     "model_name": "LayoutModel",
     "state": {
      "_model_module": "@jupyter-widgets/base",
      "_model_module_version": "1.2.0",
      "_model_name": "LayoutModel",
      "_view_count": null,
      "_view_module": "@jupyter-widgets/base",
      "_view_module_version": "1.2.0",
      "_view_name": "LayoutView",
      "align_content": null,
      "align_items": null,
      "align_self": null,
      "border": null,
      "bottom": null,
      "display": null,
      "flex": null,
      "flex_flow": null,
      "grid_area": null,
      "grid_auto_columns": null,
      "grid_auto_flow": null,
      "grid_auto_rows": null,
      "grid_column": null,
      "grid_gap": null,
      "grid_row": null,
      "grid_template_areas": null,
      "grid_template_columns": null,
      "grid_template_rows": null,
      "height": null,
      "justify_content": null,
      "justify_items": null,
      "left": null,
      "margin": null,
      "max_height": null,
      "max_width": null,
      "min_height": null,
      "min_width": null,
      "object_fit": null,
      "object_position": null,
      "order": null,
      "overflow": null,
      "overflow_x": null,
      "overflow_y": null,
      "padding": null,
      "right": null,
      "top": null,
      "visibility": null,
      "width": null
     }
    },
    "6b7cd4eb928d453ab2ac68fc39027110": {
     "model_module": "@jupyter-widgets/controls",
     "model_module_version": "1.5.0",
     "model_name": "DescriptionStyleModel",
     "state": {
      "_model_module": "@jupyter-widgets/controls",
      "_model_module_version": "1.5.0",
      "_model_name": "DescriptionStyleModel",
      "_view_count": null,
      "_view_module": "@jupyter-widgets/base",
      "_view_module_version": "1.2.0",
      "_view_name": "StyleView",
      "description_width": ""
     }
    },
    "6be05eb0a7b6498092fe143f8ee4d9c5": {
     "model_module": "@jupyter-widgets/base",
     "model_module_version": "1.2.0",
     "model_name": "LayoutModel",
     "state": {
      "_model_module": "@jupyter-widgets/base",
      "_model_module_version": "1.2.0",
      "_model_name": "LayoutModel",
      "_view_count": null,
      "_view_module": "@jupyter-widgets/base",
      "_view_module_version": "1.2.0",
      "_view_name": "LayoutView",
      "align_content": null,
      "align_items": null,
      "align_self": null,
      "border": null,
      "bottom": null,
      "display": null,
      "flex": null,
      "flex_flow": null,
      "grid_area": null,
      "grid_auto_columns": null,
      "grid_auto_flow": null,
      "grid_auto_rows": null,
      "grid_column": null,
      "grid_gap": null,
      "grid_row": null,
      "grid_template_areas": null,
      "grid_template_columns": null,
      "grid_template_rows": null,
      "height": null,
      "justify_content": null,
      "justify_items": null,
      "left": null,
      "margin": null,
      "max_height": null,
      "max_width": null,
      "min_height": null,
      "min_width": null,
      "object_fit": null,
      "object_position": null,
      "order": null,
      "overflow": null,
      "overflow_x": null,
      "overflow_y": null,
      "padding": null,
      "right": null,
      "top": null,
      "visibility": null,
      "width": null
     }
    },
    "6c78e119dec7479ea15a4f34417213c1": {
     "model_module": "@jupyter-widgets/base",
     "model_module_version": "1.2.0",
     "model_name": "LayoutModel",
     "state": {
      "_model_module": "@jupyter-widgets/base",
      "_model_module_version": "1.2.0",
      "_model_name": "LayoutModel",
      "_view_count": null,
      "_view_module": "@jupyter-widgets/base",
      "_view_module_version": "1.2.0",
      "_view_name": "LayoutView",
      "align_content": null,
      "align_items": null,
      "align_self": null,
      "border": null,
      "bottom": null,
      "display": null,
      "flex": null,
      "flex_flow": null,
      "grid_area": null,
      "grid_auto_columns": null,
      "grid_auto_flow": null,
      "grid_auto_rows": null,
      "grid_column": null,
      "grid_gap": null,
      "grid_row": null,
      "grid_template_areas": null,
      "grid_template_columns": null,
      "grid_template_rows": null,
      "height": null,
      "justify_content": null,
      "justify_items": null,
      "left": null,
      "margin": null,
      "max_height": null,
      "max_width": null,
      "min_height": null,
      "min_width": null,
      "object_fit": null,
      "object_position": null,
      "order": null,
      "overflow": null,
      "overflow_x": null,
      "overflow_y": null,
      "padding": null,
      "right": null,
      "top": null,
      "visibility": null,
      "width": null
     }
    },
    "6ceb138ffe624d2cb64a192eabb6a766": {
     "model_module": "@jupyter-widgets/base",
     "model_module_version": "1.2.0",
     "model_name": "LayoutModel",
     "state": {
      "_model_module": "@jupyter-widgets/base",
      "_model_module_version": "1.2.0",
      "_model_name": "LayoutModel",
      "_view_count": null,
      "_view_module": "@jupyter-widgets/base",
      "_view_module_version": "1.2.0",
      "_view_name": "LayoutView",
      "align_content": null,
      "align_items": null,
      "align_self": null,
      "border": null,
      "bottom": null,
      "display": null,
      "flex": null,
      "flex_flow": null,
      "grid_area": null,
      "grid_auto_columns": null,
      "grid_auto_flow": null,
      "grid_auto_rows": null,
      "grid_column": null,
      "grid_gap": null,
      "grid_row": null,
      "grid_template_areas": null,
      "grid_template_columns": null,
      "grid_template_rows": null,
      "height": null,
      "justify_content": null,
      "justify_items": null,
      "left": null,
      "margin": null,
      "max_height": null,
      "max_width": null,
      "min_height": null,
      "min_width": null,
      "object_fit": null,
      "object_position": null,
      "order": null,
      "overflow": null,
      "overflow_x": null,
      "overflow_y": null,
      "padding": null,
      "right": null,
      "top": null,
      "visibility": null,
      "width": null
     }
    },
    "725cf27e565e4620bd32768c8554bcc9": {
     "model_module": "@jupyter-widgets/controls",
     "model_module_version": "1.5.0",
     "model_name": "DescriptionStyleModel",
     "state": {
      "_model_module": "@jupyter-widgets/controls",
      "_model_module_version": "1.5.0",
      "_model_name": "DescriptionStyleModel",
      "_view_count": null,
      "_view_module": "@jupyter-widgets/base",
      "_view_module_version": "1.2.0",
      "_view_name": "StyleView",
      "description_width": ""
     }
    },
    "74ee4e7bef3c4bd9a1d619924d8a974c": {
     "model_module": "@jupyter-widgets/base",
     "model_module_version": "1.2.0",
     "model_name": "LayoutModel",
     "state": {
      "_model_module": "@jupyter-widgets/base",
      "_model_module_version": "1.2.0",
      "_model_name": "LayoutModel",
      "_view_count": null,
      "_view_module": "@jupyter-widgets/base",
      "_view_module_version": "1.2.0",
      "_view_name": "LayoutView",
      "align_content": null,
      "align_items": null,
      "align_self": null,
      "border": null,
      "bottom": null,
      "display": null,
      "flex": null,
      "flex_flow": null,
      "grid_area": null,
      "grid_auto_columns": null,
      "grid_auto_flow": null,
      "grid_auto_rows": null,
      "grid_column": null,
      "grid_gap": null,
      "grid_row": null,
      "grid_template_areas": null,
      "grid_template_columns": null,
      "grid_template_rows": null,
      "height": null,
      "justify_content": null,
      "justify_items": null,
      "left": null,
      "margin": null,
      "max_height": null,
      "max_width": null,
      "min_height": null,
      "min_width": null,
      "object_fit": null,
      "object_position": null,
      "order": null,
      "overflow": null,
      "overflow_x": null,
      "overflow_y": null,
      "padding": null,
      "right": null,
      "top": null,
      "visibility": null,
      "width": null
     }
    },
    "762c1c4a2f914a43b97bf207e41f37a4": {
     "model_module": "@jupyter-widgets/base",
     "model_module_version": "1.2.0",
     "model_name": "LayoutModel",
     "state": {
      "_model_module": "@jupyter-widgets/base",
      "_model_module_version": "1.2.0",
      "_model_name": "LayoutModel",
      "_view_count": null,
      "_view_module": "@jupyter-widgets/base",
      "_view_module_version": "1.2.0",
      "_view_name": "LayoutView",
      "align_content": null,
      "align_items": null,
      "align_self": null,
      "border": null,
      "bottom": null,
      "display": null,
      "flex": null,
      "flex_flow": null,
      "grid_area": null,
      "grid_auto_columns": null,
      "grid_auto_flow": null,
      "grid_auto_rows": null,
      "grid_column": null,
      "grid_gap": null,
      "grid_row": null,
      "grid_template_areas": null,
      "grid_template_columns": null,
      "grid_template_rows": null,
      "height": null,
      "justify_content": null,
      "justify_items": null,
      "left": null,
      "margin": null,
      "max_height": null,
      "max_width": null,
      "min_height": null,
      "min_width": null,
      "object_fit": null,
      "object_position": null,
      "order": null,
      "overflow": null,
      "overflow_x": null,
      "overflow_y": null,
      "padding": null,
      "right": null,
      "top": null,
      "visibility": null,
      "width": null
     }
    },
    "7f4bb866476142248cf272b4552b7397": {
     "model_module": "@jupyter-widgets/controls",
     "model_module_version": "1.5.0",
     "model_name": "FloatProgressModel",
     "state": {
      "_dom_classes": [],
      "_model_module": "@jupyter-widgets/controls",
      "_model_module_version": "1.5.0",
      "_model_name": "FloatProgressModel",
      "_view_count": null,
      "_view_module": "@jupyter-widgets/controls",
      "_view_module_version": "1.5.0",
      "_view_name": "ProgressView",
      "bar_style": "success",
      "description": "",
      "description_tooltip": null,
      "layout": "IPY_MODEL_74ee4e7bef3c4bd9a1d619924d8a974c",
      "max": 4,
      "min": 0,
      "orientation": "horizontal",
      "style": "IPY_MODEL_5bc6b479de8845b38952602be1985655",
      "value": 4
     }
    },
    "83181c31828246dab4f16aac4cf4be4b": {
     "model_module": "@jupyter-widgets/controls",
     "model_module_version": "1.5.0",
     "model_name": "HTMLModel",
     "state": {
      "_dom_classes": [],
      "_model_module": "@jupyter-widgets/controls",
      "_model_module_version": "1.5.0",
      "_model_name": "HTMLModel",
      "_view_count": null,
      "_view_module": "@jupyter-widgets/controls",
      "_view_module_version": "1.5.0",
      "_view_name": "HTMLView",
      "description": "",
      "description_tooltip": null,
      "layout": "IPY_MODEL_6be05eb0a7b6498092fe143f8ee4d9c5",
      "placeholder": "​",
      "style": "IPY_MODEL_b51706a131d74c6fbfa62f259eadda8e",
      "value": "100%"
     }
    },
    "88fee66ccd454e93848b5dcc819fb8ea": {
     "model_module": "@jupyter-widgets/base",
     "model_module_version": "1.2.0",
     "model_name": "LayoutModel",
     "state": {
      "_model_module": "@jupyter-widgets/base",
      "_model_module_version": "1.2.0",
      "_model_name": "LayoutModel",
      "_view_count": null,
      "_view_module": "@jupyter-widgets/base",
      "_view_module_version": "1.2.0",
      "_view_name": "LayoutView",
      "align_content": null,
      "align_items": null,
      "align_self": null,
      "border": null,
      "bottom": null,
      "display": null,
      "flex": null,
      "flex_flow": null,
      "grid_area": null,
      "grid_auto_columns": null,
      "grid_auto_flow": null,
      "grid_auto_rows": null,
      "grid_column": null,
      "grid_gap": null,
      "grid_row": null,
      "grid_template_areas": null,
      "grid_template_columns": null,
      "grid_template_rows": null,
      "height": null,
      "justify_content": null,
      "justify_items": null,
      "left": null,
      "margin": null,
      "max_height": null,
      "max_width": null,
      "min_height": null,
      "min_width": null,
      "object_fit": null,
      "object_position": null,
      "order": null,
      "overflow": null,
      "overflow_x": null,
      "overflow_y": null,
      "padding": null,
      "right": null,
      "top": null,
      "visibility": null,
      "width": null
     }
    },
    "8fab983cf0a240ec960fe49a0c51daf1": {
     "model_module": "@jupyter-widgets/base",
     "model_module_version": "1.2.0",
     "model_name": "LayoutModel",
     "state": {
      "_model_module": "@jupyter-widgets/base",
      "_model_module_version": "1.2.0",
      "_model_name": "LayoutModel",
      "_view_count": null,
      "_view_module": "@jupyter-widgets/base",
      "_view_module_version": "1.2.0",
      "_view_name": "LayoutView",
      "align_content": null,
      "align_items": null,
      "align_self": null,
      "border": null,
      "bottom": null,
      "display": null,
      "flex": null,
      "flex_flow": null,
      "grid_area": null,
      "grid_auto_columns": null,
      "grid_auto_flow": null,
      "grid_auto_rows": null,
      "grid_column": null,
      "grid_gap": null,
      "grid_row": null,
      "grid_template_areas": null,
      "grid_template_columns": null,
      "grid_template_rows": null,
      "height": null,
      "justify_content": null,
      "justify_items": null,
      "left": null,
      "margin": null,
      "max_height": null,
      "max_width": null,
      "min_height": null,
      "min_width": null,
      "object_fit": null,
      "object_position": null,
      "order": null,
      "overflow": null,
      "overflow_x": null,
      "overflow_y": null,
      "padding": null,
      "right": null,
      "top": null,
      "visibility": null,
      "width": null
     }
    },
    "978c485fec3b416182aff2085b25d899": {
     "model_module": "@jupyter-widgets/base",
     "model_module_version": "1.2.0",
     "model_name": "LayoutModel",
     "state": {
      "_model_module": "@jupyter-widgets/base",
      "_model_module_version": "1.2.0",
      "_model_name": "LayoutModel",
      "_view_count": null,
      "_view_module": "@jupyter-widgets/base",
      "_view_module_version": "1.2.0",
      "_view_name": "LayoutView",
      "align_content": null,
      "align_items": null,
      "align_self": null,
      "border": null,
      "bottom": null,
      "display": null,
      "flex": null,
      "flex_flow": null,
      "grid_area": null,
      "grid_auto_columns": null,
      "grid_auto_flow": null,
      "grid_auto_rows": null,
      "grid_column": null,
      "grid_gap": null,
      "grid_row": null,
      "grid_template_areas": null,
      "grid_template_columns": null,
      "grid_template_rows": null,
      "height": null,
      "justify_content": null,
      "justify_items": null,
      "left": null,
      "margin": null,
      "max_height": null,
      "max_width": null,
      "min_height": null,
      "min_width": null,
      "object_fit": null,
      "object_position": null,
      "order": null,
      "overflow": null,
      "overflow_x": null,
      "overflow_y": null,
      "padding": null,
      "right": null,
      "top": null,
      "visibility": null,
      "width": null
     }
    },
    "9aa9c357f8f0449094ae6b463557add2": {
     "model_module": "@jupyter-widgets/controls",
     "model_module_version": "1.5.0",
     "model_name": "HBoxModel",
     "state": {
      "_dom_classes": [],
      "_model_module": "@jupyter-widgets/controls",
      "_model_module_version": "1.5.0",
      "_model_name": "HBoxModel",
      "_view_count": null,
      "_view_module": "@jupyter-widgets/controls",
      "_view_module_version": "1.5.0",
      "_view_name": "HBoxView",
      "box_style": "",
      "children": [
       "IPY_MODEL_a93ce3f353554cc99000ea5a226cc93a",
       "IPY_MODEL_e92197739a8c42e7aee30d2ed313cae8",
       "IPY_MODEL_256780e945aa43028fad04569d423770"
      ],
      "layout": "IPY_MODEL_6ceb138ffe624d2cb64a192eabb6a766"
     }
    },
    "a93ce3f353554cc99000ea5a226cc93a": {
     "model_module": "@jupyter-widgets/controls",
     "model_module_version": "1.5.0",
     "model_name": "HTMLModel",
     "state": {
      "_dom_classes": [],
      "_model_module": "@jupyter-widgets/controls",
      "_model_module_version": "1.5.0",
      "_model_name": "HTMLModel",
      "_view_count": null,
      "_view_module": "@jupyter-widgets/controls",
      "_view_module_version": "1.5.0",
      "_view_name": "HTMLView",
      "description": "",
      "description_tooltip": null,
      "layout": "IPY_MODEL_f23e8cb8863248c280ef63a2ee4a5195",
      "placeholder": "​",
      "style": "IPY_MODEL_6b7cd4eb928d453ab2ac68fc39027110",
      "value": "100%"
     }
    },
    "b51706a131d74c6fbfa62f259eadda8e": {
     "model_module": "@jupyter-widgets/controls",
     "model_module_version": "1.5.0",
     "model_name": "DescriptionStyleModel",
     "state": {
      "_model_module": "@jupyter-widgets/controls",
      "_model_module_version": "1.5.0",
      "_model_name": "DescriptionStyleModel",
      "_view_count": null,
      "_view_module": "@jupyter-widgets/base",
      "_view_module_version": "1.2.0",
      "_view_name": "StyleView",
      "description_width": ""
     }
    },
    "b8cb2688ce0f4a55971fcf3b1dba6ec7": {
     "model_module": "@jupyter-widgets/controls",
     "model_module_version": "1.5.0",
     "model_name": "FloatProgressModel",
     "state": {
      "_dom_classes": [],
      "_model_module": "@jupyter-widgets/controls",
      "_model_module_version": "1.5.0",
      "_model_name": "FloatProgressModel",
      "_view_count": null,
      "_view_module": "@jupyter-widgets/controls",
      "_view_module_version": "1.5.0",
      "_view_name": "ProgressView",
      "bar_style": "success",
      "description": "",
      "description_tooltip": null,
      "layout": "IPY_MODEL_5a8cb1d29d41477292609b27d83069e5",
      "max": 8,
      "min": 0,
      "orientation": "horizontal",
      "style": "IPY_MODEL_d3f3e5e2cefe434780ea7b84a8b0f137",
      "value": 8
     }
    },
    "c80cb4bff8f34ca4bd009d384739eaa9": {
     "model_module": "@jupyter-widgets/controls",
     "model_module_version": "1.5.0",
     "model_name": "HTMLModel",
     "state": {
      "_dom_classes": [],
      "_model_module": "@jupyter-widgets/controls",
      "_model_module_version": "1.5.0",
      "_model_name": "HTMLModel",
      "_view_count": null,
      "_view_module": "@jupyter-widgets/controls",
      "_view_module_version": "1.5.0",
      "_view_name": "HTMLView",
      "description": "",
      "description_tooltip": null,
      "layout": "IPY_MODEL_dea20d9e4d4444929741a83faac7e387",
      "placeholder": "​",
      "style": "IPY_MODEL_725cf27e565e4620bd32768c8554bcc9",
      "value": " 8/8 [00:17&lt;00:00,  2.22s/it]"
     }
    },
    "ce00ee17bbf44cbaba52416baa616171": {
     "model_module": "@jupyter-widgets/controls",
     "model_module_version": "1.5.0",
     "model_name": "DescriptionStyleModel",
     "state": {
      "_model_module": "@jupyter-widgets/controls",
      "_model_module_version": "1.5.0",
      "_model_name": "DescriptionStyleModel",
      "_view_count": null,
      "_view_module": "@jupyter-widgets/base",
      "_view_module_version": "1.2.0",
      "_view_name": "StyleView",
      "description_width": ""
     }
    },
    "d3f3e5e2cefe434780ea7b84a8b0f137": {
     "model_module": "@jupyter-widgets/controls",
     "model_module_version": "1.5.0",
     "model_name": "ProgressStyleModel",
     "state": {
      "_model_module": "@jupyter-widgets/controls",
      "_model_module_version": "1.5.0",
      "_model_name": "ProgressStyleModel",
      "_view_count": null,
      "_view_module": "@jupyter-widgets/base",
      "_view_module_version": "1.2.0",
      "_view_name": "StyleView",
      "bar_color": null,
      "description_width": ""
     }
    },
    "d635e5d62fd5481795b1aa6afd6d60e9": {
     "model_module": "@jupyter-widgets/base",
     "model_module_version": "1.2.0",
     "model_name": "LayoutModel",
     "state": {
      "_model_module": "@jupyter-widgets/base",
      "_model_module_version": "1.2.0",
      "_model_name": "LayoutModel",
      "_view_count": null,
      "_view_module": "@jupyter-widgets/base",
      "_view_module_version": "1.2.0",
      "_view_name": "LayoutView",
      "align_content": null,
      "align_items": null,
      "align_self": null,
      "border": null,
      "bottom": null,
      "display": null,
      "flex": null,
      "flex_flow": null,
      "grid_area": null,
      "grid_auto_columns": null,
      "grid_auto_flow": null,
      "grid_auto_rows": null,
      "grid_column": null,
      "grid_gap": null,
      "grid_row": null,
      "grid_template_areas": null,
      "grid_template_columns": null,
      "grid_template_rows": null,
      "height": null,
      "justify_content": null,
      "justify_items": null,
      "left": null,
      "margin": null,
      "max_height": null,
      "max_width": null,
      "min_height": null,
      "min_width": null,
      "object_fit": null,
      "object_position": null,
      "order": null,
      "overflow": null,
      "overflow_x": null,
      "overflow_y": null,
      "padding": null,
      "right": null,
      "top": null,
      "visibility": null,
      "width": null
     }
    },
    "d8e4c16b0e764451b75117c0ff884873": {
     "model_module": "@jupyter-widgets/base",
     "model_module_version": "1.2.0",
     "model_name": "LayoutModel",
     "state": {
      "_model_module": "@jupyter-widgets/base",
      "_model_module_version": "1.2.0",
      "_model_name": "LayoutModel",
      "_view_count": null,
      "_view_module": "@jupyter-widgets/base",
      "_view_module_version": "1.2.0",
      "_view_name": "LayoutView",
      "align_content": null,
      "align_items": null,
      "align_self": null,
      "border": null,
      "bottom": null,
      "display": null,
      "flex": null,
      "flex_flow": null,
      "grid_area": null,
      "grid_auto_columns": null,
      "grid_auto_flow": null,
      "grid_auto_rows": null,
      "grid_column": null,
      "grid_gap": null,
      "grid_row": null,
      "grid_template_areas": null,
      "grid_template_columns": null,
      "grid_template_rows": null,
      "height": null,
      "justify_content": null,
      "justify_items": null,
      "left": null,
      "margin": null,
      "max_height": null,
      "max_width": null,
      "min_height": null,
      "min_width": null,
      "object_fit": null,
      "object_position": null,
      "order": null,
      "overflow": null,
      "overflow_x": null,
      "overflow_y": null,
      "padding": null,
      "right": null,
      "top": null,
      "visibility": null,
      "width": null
     }
    },
    "dea20d9e4d4444929741a83faac7e387": {
     "model_module": "@jupyter-widgets/base",
     "model_module_version": "1.2.0",
     "model_name": "LayoutModel",
     "state": {
      "_model_module": "@jupyter-widgets/base",
      "_model_module_version": "1.2.0",
      "_model_name": "LayoutModel",
      "_view_count": null,
      "_view_module": "@jupyter-widgets/base",
      "_view_module_version": "1.2.0",
      "_view_name": "LayoutView",
      "align_content": null,
      "align_items": null,
      "align_self": null,
      "border": null,
      "bottom": null,
      "display": null,
      "flex": null,
      "flex_flow": null,
      "grid_area": null,
      "grid_auto_columns": null,
      "grid_auto_flow": null,
      "grid_auto_rows": null,
      "grid_column": null,
      "grid_gap": null,
      "grid_row": null,
      "grid_template_areas": null,
      "grid_template_columns": null,
      "grid_template_rows": null,
      "height": null,
      "justify_content": null,
      "justify_items": null,
      "left": null,
      "margin": null,
      "max_height": null,
      "max_width": null,
      "min_height": null,
      "min_width": null,
      "object_fit": null,
      "object_position": null,
      "order": null,
      "overflow": null,
      "overflow_x": null,
      "overflow_y": null,
      "padding": null,
      "right": null,
      "top": null,
      "visibility": null,
      "width": null
     }
    },
    "e53bc7f6a7c14db8b8771560349e67a3": {
     "model_module": "@jupyter-widgets/controls",
     "model_module_version": "1.5.0",
     "model_name": "HBoxModel",
     "state": {
      "_dom_classes": [],
      "_model_module": "@jupyter-widgets/controls",
      "_model_module_version": "1.5.0",
      "_model_name": "HBoxModel",
      "_view_count": null,
      "_view_module": "@jupyter-widgets/controls",
      "_view_module_version": "1.5.0",
      "_view_name": "HBoxView",
      "box_style": "",
      "children": [
       "IPY_MODEL_83181c31828246dab4f16aac4cf4be4b",
       "IPY_MODEL_20dda12b908a4018a7f27fac79b07761",
       "IPY_MODEL_02629251058740239ee92c3daf03c06a"
      ],
      "layout": "IPY_MODEL_6b58e6289ba348e589b43209cc3b0259"
     }
    },
    "e7aebdaafa0c4815b1ed3b4b8d8b64d7": {
     "model_module": "@jupyter-widgets/controls",
     "model_module_version": "1.5.0",
     "model_name": "DescriptionStyleModel",
     "state": {
      "_model_module": "@jupyter-widgets/controls",
      "_model_module_version": "1.5.0",
      "_model_name": "DescriptionStyleModel",
      "_view_count": null,
      "_view_module": "@jupyter-widgets/base",
      "_view_module_version": "1.2.0",
      "_view_name": "StyleView",
      "description_width": ""
     }
    },
    "e81b34c132dc4358957543c19d6abd70": {
     "model_module": "@jupyter-widgets/controls",
     "model_module_version": "1.5.0",
     "model_name": "DescriptionStyleModel",
     "state": {
      "_model_module": "@jupyter-widgets/controls",
      "_model_module_version": "1.5.0",
      "_model_name": "DescriptionStyleModel",
      "_view_count": null,
      "_view_module": "@jupyter-widgets/base",
      "_view_module_version": "1.2.0",
      "_view_name": "StyleView",
      "description_width": ""
     }
    },
    "e92197739a8c42e7aee30d2ed313cae8": {
     "model_module": "@jupyter-widgets/controls",
     "model_module_version": "1.5.0",
     "model_name": "FloatProgressModel",
     "state": {
      "_dom_classes": [],
      "_model_module": "@jupyter-widgets/controls",
      "_model_module_version": "1.5.0",
      "_model_name": "FloatProgressModel",
      "_view_count": null,
      "_view_module": "@jupyter-widgets/controls",
      "_view_module_version": "1.5.0",
      "_view_name": "ProgressView",
      "bar_style": "success",
      "description": "",
      "description_tooltip": null,
      "layout": "IPY_MODEL_978c485fec3b416182aff2085b25d899",
      "max": 4,
      "min": 0,
      "orientation": "horizontal",
      "style": "IPY_MODEL_ea580afce21a429fadb24e10215b0088",
      "value": 4
     }
    },
    "ea580afce21a429fadb24e10215b0088": {
     "model_module": "@jupyter-widgets/controls",
     "model_module_version": "1.5.0",
     "model_name": "ProgressStyleModel",
     "state": {
      "_model_module": "@jupyter-widgets/controls",
      "_model_module_version": "1.5.0",
      "_model_name": "ProgressStyleModel",
      "_view_count": null,
      "_view_module": "@jupyter-widgets/base",
      "_view_module_version": "1.2.0",
      "_view_name": "StyleView",
      "bar_color": null,
      "description_width": ""
     }
    },
    "ee23f2372de2443aa1c4a42ad312c09c": {
     "model_module": "@jupyter-widgets/base",
     "model_module_version": "1.2.0",
     "model_name": "LayoutModel",
     "state": {
      "_model_module": "@jupyter-widgets/base",
      "_model_module_version": "1.2.0",
      "_model_name": "LayoutModel",
      "_view_count": null,
      "_view_module": "@jupyter-widgets/base",
      "_view_module_version": "1.2.0",
      "_view_name": "LayoutView",
      "align_content": null,
      "align_items": null,
      "align_self": null,
      "border": null,
      "bottom": null,
      "display": null,
      "flex": null,
      "flex_flow": null,
      "grid_area": null,
      "grid_auto_columns": null,
      "grid_auto_flow": null,
      "grid_auto_rows": null,
      "grid_column": null,
      "grid_gap": null,
      "grid_row": null,
      "grid_template_areas": null,
      "grid_template_columns": null,
      "grid_template_rows": null,
      "height": null,
      "justify_content": null,
      "justify_items": null,
      "left": null,
      "margin": null,
      "max_height": null,
      "max_width": null,
      "min_height": null,
      "min_width": null,
      "object_fit": null,
      "object_position": null,
      "order": null,
      "overflow": null,
      "overflow_x": null,
      "overflow_y": null,
      "padding": null,
      "right": null,
      "top": null,
      "visibility": null,
      "width": null
     }
    },
    "eebcb9c3e07c4bedbbdd6941a9e094c7": {
     "model_module": "@jupyter-widgets/controls",
     "model_module_version": "1.5.0",
     "model_name": "HTMLModel",
     "state": {
      "_dom_classes": [],
      "_model_module": "@jupyter-widgets/controls",
      "_model_module_version": "1.5.0",
      "_model_name": "HTMLModel",
      "_view_count": null,
      "_view_module": "@jupyter-widgets/controls",
      "_view_module_version": "1.5.0",
      "_view_name": "HTMLView",
      "description": "",
      "description_tooltip": null,
      "layout": "IPY_MODEL_88fee66ccd454e93848b5dcc819fb8ea",
      "placeholder": "​",
      "style": "IPY_MODEL_e81b34c132dc4358957543c19d6abd70",
      "value": "100%"
     }
    },
    "f23e8cb8863248c280ef63a2ee4a5195": {
     "model_module": "@jupyter-widgets/base",
     "model_module_version": "1.2.0",
     "model_name": "LayoutModel",
     "state": {
      "_model_module": "@jupyter-widgets/base",
      "_model_module_version": "1.2.0",
      "_model_name": "LayoutModel",
      "_view_count": null,
      "_view_module": "@jupyter-widgets/base",
      "_view_module_version": "1.2.0",
      "_view_name": "LayoutView",
      "align_content": null,
      "align_items": null,
      "align_self": null,
      "border": null,
      "bottom": null,
      "display": null,
      "flex": null,
      "flex_flow": null,
      "grid_area": null,
      "grid_auto_columns": null,
      "grid_auto_flow": null,
      "grid_auto_rows": null,
      "grid_column": null,
      "grid_gap": null,
      "grid_row": null,
      "grid_template_areas": null,
      "grid_template_columns": null,
      "grid_template_rows": null,
      "height": null,
      "justify_content": null,
      "justify_items": null,
      "left": null,
      "margin": null,
      "max_height": null,
      "max_width": null,
      "min_height": null,
      "min_width": null,
      "object_fit": null,
      "object_position": null,
      "order": null,
      "overflow": null,
      "overflow_x": null,
      "overflow_y": null,
      "padding": null,
      "right": null,
      "top": null,
      "visibility": null,
      "width": null
     }
    },
    "f422f78782ca42759aa455361cb815e5": {
     "model_module": "@jupyter-widgets/controls",
     "model_module_version": "1.5.0",
     "model_name": "HTMLModel",
     "state": {
      "_dom_classes": [],
      "_model_module": "@jupyter-widgets/controls",
      "_model_module_version": "1.5.0",
      "_model_name": "HTMLModel",
      "_view_count": null,
      "_view_module": "@jupyter-widgets/controls",
      "_view_module_version": "1.5.0",
      "_view_name": "HTMLView",
      "description": "",
      "description_tooltip": null,
      "layout": "IPY_MODEL_d635e5d62fd5481795b1aa6afd6d60e9",
      "placeholder": "​",
      "style": "IPY_MODEL_e7aebdaafa0c4815b1ed3b4b8d8b64d7",
      "value": " 4/4 [00:00&lt;00:00,  7.14it/s]"
     }
    }
   }
  }
 },
 "nbformat": 4,
 "nbformat_minor": 4
}
